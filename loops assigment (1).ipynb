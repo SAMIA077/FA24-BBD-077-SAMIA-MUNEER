{
 "cells": [
  {
   "cell_type": "code",
   "execution_count": 50,
   "id": "3c21758e-0970-41f5-b65b-45fbb439c872",
   "metadata": {},
   "outputs": [
    {
     "name": "stdout",
     "output_type": "stream",
     "text": [
      "lupin\n",
      "money heist\n",
      "game of thrones\n",
      "red stone\n"
     ]
    }
   ],
   "source": [
    "#loop iteration\n",
    "movie=['lupin', 'money heist', 'game of thrones', 'red stone']\n",
    "for movie in movie:\n",
    "    print(movie)"
   ]
  },
  {
   "cell_type": "code",
   "execution_count": 52,
   "id": "e5c2a212-966e-4a47-9384-999535f1d318",
   "metadata": {},
   "outputs": [
    {
     "name": "stdout",
     "output_type": "stream",
     "text": [
      "0 lupin\n",
      "1 money heist\n",
      "2 game of thrones\n",
      "3 red stone\n"
     ]
    }
   ],
   "source": [
    "movie=['lupin', 'money heist', 'game of thrones', 'red stone']\n",
    "index = 0\n",
    "for movie in movie:\n",
    "    print(index, movie)\n",
    "    index +=1"
   ]
  },
  {
   "cell_type": "code",
   "execution_count": 46,
   "id": "b2ea7047-f624-42e1-8b9a-2098f858a8bb",
   "metadata": {},
   "outputs": [
    {
     "name": "stdout",
     "output_type": "stream",
     "text": [
      "S\n",
      "a\n",
      "m\n",
      "i\n",
      "a\n",
      " \n",
      "M\n",
      "u\n",
      "n\n",
      "e\n",
      "e\n",
      "r\n"
     ]
    }
   ],
   "source": [
    "#string iteration\n",
    "name=\"Samia Muneer\"\n",
    "for char in name:\n",
    "    print(char)"
   ]
  },
  {
   "cell_type": "code",
   "execution_count": 44,
   "id": "fa59ac92-ec99-4499-9be0-cde903c75578",
   "metadata": {},
   "outputs": [
    {
     "name": "stdout",
     "output_type": "stream",
     "text": [
      "6\n"
     ]
    }
   ],
   "source": [
    "name=\"samia muneer\"\n",
    "vowels=\"aeiou\"\n",
    "vowels_count=0\n",
    "for c in name:\n",
    "    if c in vowels:\n",
    "        vowels_count+=1\n",
    "print(vowels_count)"
   ]
  },
  {
   "cell_type": "code",
   "execution_count": 42,
   "id": "0c7baffb-77f4-4b02-959c-332de8cdc259",
   "metadata": {},
   "outputs": [
    {
     "name": "stdout",
     "output_type": "stream",
     "text": [
      "Ali 50\n",
      "Ahmed 90\n",
      "Ayaan 70\n",
      "Hasan 80\n",
      "Topper is Hasan with grade 80\n"
     ]
    }
   ],
   "source": [
    "#dictionary iteration\n",
    "students_grades={\n",
    "    'Ali':50,\n",
    "    'Ahmed':90,\n",
    "    'Ayaan':70,\n",
    "    'Hasan':80\n",
    "}\n",
    "for name,grades in students_grades.items():\n",
    "    print(name, grades)\n",
    "highest_grade=0\n",
    "topper=''\n",
    "if grades > highest_grade:\n",
    "        highest_grade = grades\n",
    "        topper = name\n",
    "        print(f\"Topper is {topper} with grade {highest_grade}\")"
   ]
  },
  {
   "cell_type": "code",
   "execution_count": null,
   "id": "52ffb3a6-369e-4515-bfec-01c52d606372",
   "metadata": {},
   "outputs": [],
   "source": [
    "#while loop "
   ]
  },
  {
   "cell_type": "code",
   "execution_count": 36,
   "id": "886e033a-61af-4493-91ee-e4d82f23291d",
   "metadata": {},
   "outputs": [
    {
     "name": "stdout",
     "output_type": "stream",
     "text": [
      "0\n",
      "1\n",
      "2\n",
      "3\n",
      "4\n",
      "5\n",
      "6\n",
      "7\n",
      "8\n",
      "9\n",
      "10\n"
     ]
    }
   ],
   "source": [
    "num=0\n",
    "while num<=10:\n",
    "    print(num)\n",
    "    num +=1"
   ]
  },
  {
   "cell_type": "code",
   "execution_count": 34,
   "id": "f7f2d2c2-985d-4b0a-99a1-326489b1d9b8",
   "metadata": {},
   "outputs": [
    {
     "name": "stdout",
     "output_type": "stream",
     "text": [
      "2\n",
      "4\n",
      "6\n",
      "8\n",
      "10\n",
      "12\n",
      "14\n",
      "16\n",
      "18\n",
      "20\n"
     ]
    }
   ],
   "source": [
    "num=2\n",
    "while num<=20:\n",
    "    print(num)\n",
    "    num +=2"
   ]
  },
  {
   "cell_type": "code",
   "execution_count": 13,
   "id": "846eaaa7-d3a2-4ae2-a2b5-1eed804146b2",
   "metadata": {},
   "outputs": [
    {
     "name": "stdout",
     "output_type": "stream",
     "text": [
      "sum of first 10 natural number: 56\n"
     ]
    }
   ],
   "source": [
    "n=1\n",
    "result=1\n",
    "while n<=10:\n",
    "    result +=n\n",
    "    n +=1\n",
    "print(f\"sum of first 10 natural number: {result}\")\n"
   ]
  },
  {
   "cell_type": "code",
   "execution_count": 19,
   "id": "133367e4-e0dc-4e2d-adaf-bc6abaf771a9",
   "metadata": {},
   "outputs": [
    {
     "name": "stdin",
     "output_type": "stream",
     "text": [
      "Enter a number (negative to stop): 56\n",
      "Enter a number (negative to stop): 99\n",
      "Enter a number (negative to stop): 47\n",
      "Enter a number (negative to stop): -6\n"
     ]
    },
    {
     "name": "stdout",
     "output_type": "stream",
     "text": [
      "Total sum: 202\n"
     ]
    }
   ],
   "source": [
    "result = 0\n",
    "while True:\n",
    "    num = int(input(\"Enter a number (negative to stop):\"))\n",
    "    if num < 0:\n",
    "        break\n",
    "    result += num\n",
    "print(f\"Total sum: {result}\")"
   ]
  },
  {
   "cell_type": "code",
   "execution_count": 23,
   "id": "158bec12-5c4f-4540-8ef3-bd90b675a176",
   "metadata": {},
   "outputs": [
    {
     "name": "stdin",
     "output_type": "stream",
     "text": [
      "Guess the number (1-100):  67\n"
     ]
    },
    {
     "name": "stdout",
     "output_type": "stream",
     "text": [
      "Too high!\n"
     ]
    },
    {
     "name": "stdin",
     "output_type": "stream",
     "text": [
      "Guess the number (1-100):  42\n"
     ]
    },
    {
     "name": "stdout",
     "output_type": "stream",
     "text": [
      "Too low!\n"
     ]
    },
    {
     "name": "stdin",
     "output_type": "stream",
     "text": [
      "Guess the number (1-100):  67\n"
     ]
    },
    {
     "name": "stdout",
     "output_type": "stream",
     "text": [
      "Too high!\n"
     ]
    },
    {
     "name": "stdin",
     "output_type": "stream",
     "text": [
      "Guess the number (1-100):  22\n"
     ]
    },
    {
     "name": "stdout",
     "output_type": "stream",
     "text": [
      "Too low!\n"
     ]
    },
    {
     "name": "stdin",
     "output_type": "stream",
     "text": [
      "Guess the number (1-100):  55\n"
     ]
    },
    {
     "name": "stdout",
     "output_type": "stream",
     "text": [
      "Correct! You guessed the number!\n"
     ]
    }
   ],
   "source": [
    "number = 55  \n",
    "guess = 0\n",
    "\n",
    "while guess != number:\n",
    "    guess = int(input(\"Guess the number (1-100): \"))\n",
    "    if guess < number:\n",
    "        print(\"Too low!\")\n",
    "    elif guess > number:\n",
    "        print(\"Too high!\")\n",
    "\n",
    "print(\"Correct! You guessed the number!\")"
   ]
  },
  {
   "cell_type": "code",
   "execution_count": 30,
   "id": "4aa0eb8d-e9bd-46fd-9dd9-da5501c8f4e4",
   "metadata": {},
   "outputs": [
    {
     "name": "stdin",
     "output_type": "stream",
     "text": [
      "Enter a positive integer:  3\n"
     ]
    },
    {
     "name": "stdout",
     "output_type": "stream",
     "text": [
      "The factorial is: 6\n"
     ]
    }
   ],
   "source": [
    "n = int(input(\"Enter a positive integer: \"))\n",
    "factorial = 1\n",
    "if n < 0:\n",
    "    print(\"Please enter a positive integer.\")\n",
    "else:\n",
    "    while n > 0:\n",
    "        factorial *= n\n",
    "        n -= 1\n",
    "    print(f\"The factorial is: {factorial}\")\n"
   ]
  },
  {
   "cell_type": "code",
   "execution_count": 54,
   "id": "1ad7114f-e576-43e7-bc3c-79e00598d3de",
   "metadata": {},
   "outputs": [
    {
     "name": "stdin",
     "output_type": "stream",
     "text": [
      "Enter a number (or 'done' to stop):  77\n",
      "Enter a number (or 'done' to stop):  56\n",
      "Enter a number (or 'done' to stop):  99\n",
      "Enter a number (or 'done' to stop):  done\n"
     ]
    },
    {
     "name": "stdout",
     "output_type": "stream",
     "text": [
      "Average: 77.33333333333333\n"
     ]
    }
   ],
   "source": [
    "total = 0\n",
    "count = 0\n",
    "while True:\n",
    "    user_input = input(\"Enter a number (or 'done' to stop): \")\n",
    "    if user_input.lower() == \"done\":\n",
    "        break\n",
    "    total += float(user_input)\n",
    "    count += 1\n",
    "\n",
    "if count > 0:\n",
    "    print(f\"Average: {total / count}\")\n",
    "else:\n",
    "    print(\"No numbers entered.\")"
   ]
  },
  {
   "cell_type": "code",
   "execution_count": 32,
   "id": "9f6b3e5e-bf45-4345-893a-b94cf901d6c8",
   "metadata": {},
   "outputs": [
    {
     "name": "stdin",
     "output_type": "stream",
     "text": [
      "Enter a number:  3\n"
     ]
    },
    {
     "name": "stdout",
     "output_type": "stream",
     "text": [
      "0 1 1 2 3 "
     ]
    }
   ],
   "source": [
    "n = int(input(\"Enter a number: \"))\n",
    "a, b = 0, 1\n",
    "while a <= n:\n",
    "    print(a, end=\" \")\n",
    "    a, b = b, a + b\n"
   ]
  },
  {
   "cell_type": "code",
   "execution_count": null,
   "id": "7c36d60e-90b8-47c6-a634-35e38c3c9e90",
   "metadata": {},
   "outputs": [],
   "source": []
  }
 ],
 "metadata": {
  "kernelspec": {
   "display_name": "Python 3 (ipykernel)",
   "language": "python",
   "name": "python3"
  },
  "language_info": {
   "codemirror_mode": {
    "name": "ipython",
    "version": 3
   },
   "file_extension": ".py",
   "mimetype": "text/x-python",
   "name": "python",
   "nbconvert_exporter": "python",
   "pygments_lexer": "ipython3",
   "version": "3.12.4"
  }
 },
 "nbformat": 4,
 "nbformat_minor": 5
}
